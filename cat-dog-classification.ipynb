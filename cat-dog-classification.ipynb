{
 "cells": [
  {
   "cell_type": "code",
   "execution_count": 1,
   "id": "97141eaa",
   "metadata": {
    "_cell_guid": "b1076dfc-b9ad-4769-8c92-a6c4dae69d19",
    "_uuid": "8f2839f25d086af736a60e9eeb907d3b93b6e0e5",
    "execution": {
     "iopub.execute_input": "2022-01-02T10:39:11.330994Z",
     "iopub.status.busy": "2022-01-02T10:39:11.330321Z",
     "iopub.status.idle": "2022-01-02T10:39:12.230879Z",
     "shell.execute_reply": "2022-01-02T10:39:12.229834Z",
     "shell.execute_reply.started": "2021-12-12T10:29:51.37459Z"
    },
    "papermill": {
     "duration": 0.924033,
     "end_time": "2022-01-02T10:39:12.231067",
     "exception": false,
     "start_time": "2022-01-02T10:39:11.307034",
     "status": "completed"
    },
    "tags": []
   },
   "outputs": [],
   "source": [
    "# This Python 3 environment comes with many helpful analytics libraries installed\n",
    "# It is defined by the kaggle/python Docker image: https://github.com/kaggle/docker-python\n",
    "# For example, here's several helpful packages to load\n",
    "\n",
    "import numpy as np # linear algebra\n",
    "import pandas as pd # data processing, CSV file I/O (e.g. pd.read_csv)\n",
    "\n",
    "# Input data files are available in the read-only \"../input/\" directory\n",
    "# For example, running this (by clicking run or pressing Shift+Enter) will list all files under the input directory\n",
    "\n",
    "import os\n",
    "for dirname, _, filenames in os.walk('/kaggle/input'):\n",
    "    for filename in filenames:\n",
    "        #print(os.path.join(dirname, filename))\n",
    "        pass\n",
    "\n",
    "# You can write up to 20GB to the current directory (/kaggle/working/) that gets preserved as output when you create a version using \"Save & Run All\" \n",
    "# You can also write temporary files to /kaggle/temp/, but they won't be saved outside of the current session"
   ]
  },
  {
   "cell_type": "code",
   "execution_count": 2,
   "id": "179f0cfb",
   "metadata": {
    "execution": {
     "iopub.execute_input": "2022-01-02T10:39:12.260068Z",
     "iopub.status.busy": "2022-01-02T10:39:12.259283Z",
     "iopub.status.idle": "2022-01-02T10:39:23.097775Z",
     "shell.execute_reply": "2022-01-02T10:39:23.098215Z",
     "shell.execute_reply.started": "2021-12-12T10:29:52.934694Z"
    },
    "papermill": {
     "duration": 10.854239,
     "end_time": "2022-01-02T10:39:23.098378",
     "exception": false,
     "start_time": "2022-01-02T10:39:12.244139",
     "status": "completed"
    },
    "tags": []
   },
   "outputs": [
    {
     "name": "stdout",
     "output_type": "stream",
     "text": [
      "Collecting imutils\r\n",
      "  Downloading imutils-0.5.4.tar.gz (17 kB)\r\n",
      "  Preparing metadata (setup.py) ... \u001b[?25l-\b \bdone\r\n",
      "\u001b[?25hBuilding wheels for collected packages: imutils\r\n",
      "  Building wheel for imutils (setup.py) ... \u001b[?25l-\b \b\\\b \bdone\r\n",
      "\u001b[?25h  Created wheel for imutils: filename=imutils-0.5.4-py3-none-any.whl size=25860 sha256=ef5c38ad547a9ff5b3c044a5482da290e2f6a0de109200e7085611d09ef9b7be\r\n",
      "  Stored in directory: /root/.cache/pip/wheels/86/d7/0a/4923351ed1cec5d5e24c1eaf8905567b02a0343b24aa873df2\r\n",
      "Successfully built imutils\r\n",
      "Installing collected packages: imutils\r\n",
      "Successfully installed imutils-0.5.4\r\n",
      "\u001b[33mWARNING: Running pip as the 'root' user can result in broken permissions and conflicting behaviour with the system package manager. It is recommended to use a virtual environment instead: https://pip.pypa.io/warnings/venv\u001b[0m\r\n"
     ]
    }
   ],
   "source": [
    "!pip install imutils"
   ]
  },
  {
   "cell_type": "code",
   "execution_count": 3,
   "id": "da8c511d",
   "metadata": {
    "execution": {
     "iopub.execute_input": "2022-01-02T10:39:23.131352Z",
     "iopub.status.busy": "2022-01-02T10:39:23.130569Z",
     "iopub.status.idle": "2022-01-02T10:39:28.050958Z",
     "shell.execute_reply": "2022-01-02T10:39:28.050000Z",
     "shell.execute_reply.started": "2021-12-12T10:30:04.788507Z"
    },
    "papermill": {
     "duration": 4.938567,
     "end_time": "2022-01-02T10:39:28.051112",
     "exception": false,
     "start_time": "2022-01-02T10:39:23.112545",
     "status": "completed"
    },
    "tags": []
   },
   "outputs": [],
   "source": [
    "import numpy as np\n",
    "#import pandas as pd\n",
    "import tensorflow as tf\n",
    "import cv2\n",
    "#import os\n",
    "from imutils import paths\n",
    "path = list(paths.list_images(\"../input/cat-and-dog/training_set/training_set\"))\n",
    "y_data = ['cats','dogs']"
   ]
  },
  {
   "cell_type": "code",
   "execution_count": 4,
   "id": "5975aa36",
   "metadata": {
    "execution": {
     "iopub.execute_input": "2022-01-02T10:39:28.090552Z",
     "iopub.status.busy": "2022-01-02T10:39:28.089978Z",
     "iopub.status.idle": "2022-01-02T10:39:28.093095Z",
     "shell.execute_reply": "2022-01-02T10:39:28.093537Z",
     "shell.execute_reply.started": "2021-12-12T10:30:09.979104Z"
    },
    "papermill": {
     "duration": 0.025067,
     "end_time": "2022-01-02T10:39:28.093708",
     "exception": false,
     "start_time": "2022-01-02T10:39:28.068641",
     "status": "completed"
    },
    "tags": []
   },
   "outputs": [
    {
     "data": {
      "text/plain": [
       "'../input/cat-and-dog/training_set/training_set/dogs/dog.1942.jpg'"
      ]
     },
     "execution_count": 4,
     "metadata": {},
     "output_type": "execute_result"
    }
   ],
   "source": [
    "path[1]"
   ]
  },
  {
   "cell_type": "code",
   "execution_count": 5,
   "id": "254d1bd5",
   "metadata": {
    "execution": {
     "iopub.execute_input": "2022-01-02T10:39:28.129801Z",
     "iopub.status.busy": "2022-01-02T10:39:28.129166Z",
     "iopub.status.idle": "2022-01-02T10:40:21.474256Z",
     "shell.execute_reply": "2022-01-02T10:40:21.473777Z",
     "shell.execute_reply.started": "2021-12-12T10:30:09.990867Z"
    },
    "papermill": {
     "duration": 53.366531,
     "end_time": "2022-01-02T10:40:21.474389",
     "exception": false,
     "start_time": "2022-01-02T10:39:28.107858",
     "status": "completed"
    },
    "tags": []
   },
   "outputs": [],
   "source": [
    "\n",
    "\n",
    "X_data = []\n",
    "Y_labels = []\n",
    "\n",
    "for i in range(0,len(path)):\n",
    "    label = path[i].split(\"/\")[-2]\n",
    "    if label not in y_data:\n",
    "        continue\n",
    "    else:\n",
    "        image = cv2.imread(path[i])\n",
    "        image = cv2.cvtColor(image, cv2.COLOR_BGR2RGB)\n",
    "        image = cv2.resize(image, (124,124))\n",
    "        X_data.append(image)\n",
    "        Y_labels.append(label)"
   ]
  },
  {
   "cell_type": "code",
   "execution_count": 6,
   "id": "609dcdab",
   "metadata": {
    "execution": {
     "iopub.execute_input": "2022-01-02T10:40:21.512133Z",
     "iopub.status.busy": "2022-01-02T10:40:21.510956Z",
     "iopub.status.idle": "2022-01-02T10:40:21.623848Z",
     "shell.execute_reply": "2022-01-02T10:40:21.624314Z",
     "shell.execute_reply.started": "2021-12-12T10:30:56.767301Z"
    },
    "papermill": {
     "duration": 0.135662,
     "end_time": "2022-01-02T10:40:21.624484",
     "exception": false,
     "start_time": "2022-01-02T10:40:21.488822",
     "status": "completed"
    },
    "tags": []
   },
   "outputs": [],
   "source": [
    "x_array = np.array(X_data)\n",
    "y_array = np.array(Y_labels)"
   ]
  },
  {
   "cell_type": "code",
   "execution_count": 7,
   "id": "594fa887",
   "metadata": {
    "execution": {
     "iopub.execute_input": "2022-01-02T10:40:21.669391Z",
     "iopub.status.busy": "2022-01-02T10:40:21.668665Z",
     "iopub.status.idle": "2022-01-02T10:40:21.671410Z",
     "shell.execute_reply": "2022-01-02T10:40:21.671880Z",
     "shell.execute_reply.started": "2021-12-12T10:30:56.888988Z"
    },
    "papermill": {
     "duration": 0.029027,
     "end_time": "2022-01-02T10:40:21.672014",
     "exception": false,
     "start_time": "2022-01-02T10:40:21.642987",
     "status": "completed"
    },
    "tags": []
   },
   "outputs": [
    {
     "data": {
      "text/plain": [
       "(8005, 124, 124, 3)"
      ]
     },
     "execution_count": 7,
     "metadata": {},
     "output_type": "execute_result"
    }
   ],
   "source": [
    "x_array.shape"
   ]
  },
  {
   "cell_type": "code",
   "execution_count": 8,
   "id": "39756777",
   "metadata": {
    "execution": {
     "iopub.execute_input": "2022-01-02T10:40:21.712576Z",
     "iopub.status.busy": "2022-01-02T10:40:21.704539Z",
     "iopub.status.idle": "2022-01-02T10:40:21.978972Z",
     "shell.execute_reply": "2022-01-02T10:40:21.979383Z",
     "shell.execute_reply.started": "2021-12-12T10:30:56.896047Z"
    },
    "papermill": {
     "duration": 0.292526,
     "end_time": "2022-01-02T10:40:21.979528",
     "exception": false,
     "start_time": "2022-01-02T10:40:21.687002",
     "status": "completed"
    },
    "tags": []
   },
   "outputs": [
    {
     "data": {
      "text/plain": [
       "<matplotlib.image.AxesImage at 0x7f9810895850>"
      ]
     },
     "execution_count": 8,
     "metadata": {},
     "output_type": "execute_result"
    },
    {
     "data": {
      "image/png": "[encoded data removed]",
      "text/plain": [
       "<Figure size 432x288 with 1 Axes>"
      ]
     },
     "metadata": {
      "needs_background": "light"
     },
     "output_type": "display_data"
    }
   ],
   "source": [
    "import matplotlib.pyplot as plt\n",
    "%matplotlib inline\n",
    "plt.imshow(x_array[5000])"
   ]
  },
  {
   "cell_type": "code",
   "execution_count": 9,
   "id": "e3f6ba57",
   "metadata": {
    "execution": {
     "iopub.execute_input": "2022-01-02T10:40:22.018232Z",
     "iopub.status.busy": "2022-01-02T10:40:22.017518Z",
     "iopub.status.idle": "2022-01-02T10:40:22.563367Z",
     "shell.execute_reply": "2022-01-02T10:40:22.564101Z",
     "shell.execute_reply.started": "2021-12-12T10:30:57.160581Z"
    },
    "papermill": {
     "duration": 0.567626,
     "end_time": "2022-01-02T10:40:22.564280",
     "exception": false,
     "start_time": "2022-01-02T10:40:21.996654",
     "status": "completed"
    },
    "tags": []
   },
   "outputs": [],
   "source": [
    "from sklearn.preprocessing import LabelEncoder\n",
    "from sklearn.model_selection import train_test_split\n",
    "LE = LabelEncoder()\n",
    "LE.fit(y_array)\n",
    "Y_Encoded = LE.transform(y_array)"
   ]
  },
  {
   "cell_type": "code",
   "execution_count": 10,
   "id": "fb3c15ff",
   "metadata": {
    "execution": {
     "iopub.execute_input": "2022-01-02T10:40:22.605012Z",
     "iopub.status.busy": "2022-01-02T10:40:22.603786Z",
     "iopub.status.idle": "2022-01-02T10:40:22.713756Z",
     "shell.execute_reply": "2022-01-02T10:40:22.713298Z",
     "shell.execute_reply.started": "2021-12-12T10:30:57.836439Z"
    },
    "papermill": {
     "duration": 0.132826,
     "end_time": "2022-01-02T10:40:22.713888",
     "exception": false,
     "start_time": "2022-01-02T10:40:22.581062",
     "status": "completed"
    },
    "tags": []
   },
   "outputs": [
    {
     "data": {
      "text/plain": [
       "((6404, 124, 124, 3), (1601, 124, 124, 3), (6404,), (1601,))"
      ]
     },
     "execution_count": 10,
     "metadata": {},
     "output_type": "execute_result"
    }
   ],
   "source": [
    "x_train, x_test, y_train, y_test = train_test_split(x_array, Y_Encoded, test_size = 0.2, random_state = 42)\n",
    "x_train.shape, x_test.shape, y_train.shape, y_test.shape "
   ]
  },
  {
   "cell_type": "code",
   "execution_count": 11,
   "id": "7599d0ea",
   "metadata": {
    "execution": {
     "iopub.execute_input": "2022-01-02T10:40:22.752083Z",
     "iopub.status.busy": "2022-01-02T10:40:22.751123Z",
     "iopub.status.idle": "2022-01-02T10:40:23.646477Z",
     "shell.execute_reply": "2022-01-02T10:40:23.645998Z",
     "shell.execute_reply.started": "2021-12-12T10:30:57.954549Z"
    },
    "papermill": {
     "duration": 0.915984,
     "end_time": "2022-01-02T10:40:23.646633",
     "exception": false,
     "start_time": "2022-01-02T10:40:22.730649",
     "status": "completed"
    },
    "tags": []
   },
   "outputs": [],
   "source": [
    "x_train_norm = x_train/255.\n",
    "x_test_norm = x_test/255."
   ]
  },
  {
   "cell_type": "code",
   "execution_count": 12,
   "id": "b16ddb72",
   "metadata": {
    "execution": {
     "iopub.execute_input": "2022-01-02T10:40:23.689905Z",
     "iopub.status.busy": "2022-01-02T10:40:23.689169Z",
     "iopub.status.idle": "2022-01-02T10:40:26.941044Z",
     "shell.execute_reply": "2022-01-02T10:40:26.941496Z",
     "shell.execute_reply.started": "2021-12-12T10:30:58.93011Z"
    },
    "papermill": {
     "duration": 3.278176,
     "end_time": "2022-01-02T10:40:26.941678",
     "exception": false,
     "start_time": "2022-01-02T10:40:23.663502",
     "status": "completed"
    },
    "tags": []
   },
   "outputs": [
    {
     "name": "stderr",
     "output_type": "stream",
     "text": [
      "2022-01-02 10:40:24.541651: I tensorflow/stream_executor/cuda/cuda_gpu_executor.cc:937] successful NUMA node read from SysFS had negative value (-1), but there must be at least one NUMA node, so returning NUMA node zero\n",
      "2022-01-02 10:40:24.635897: I tensorflow/stream_executor/cuda/cuda_gpu_executor.cc:937] successful NUMA node read from SysFS had negative value (-1), but there must be at least one NUMA node, so returning NUMA node zero\n",
      "2022-01-02 10:40:24.636642: I tensorflow/stream_executor/cuda/cuda_gpu_executor.cc:937] successful NUMA node read from SysFS had negative value (-1), but there must be at least one NUMA node, so returning NUMA node zero\n",
      "2022-01-02 10:40:24.638669: I tensorflow/core/platform/cpu_feature_guard.cc:142] This TensorFlow binary is optimized with oneAPI Deep Neural Network Library (oneDNN) to use the following CPU instructions in performance-critical operations:  AVX2 AVX512F FMA\n",
      "To enable them in other operations, rebuild TensorFlow with the appropriate compiler flags.\n",
      "2022-01-02 10:40:24.639539: I tensorflow/stream_executor/cuda/cuda_gpu_executor.cc:937] successful NUMA node read from SysFS had negative value (-1), but there must be at least one NUMA node, so returning NUMA node zero\n",
      "2022-01-02 10:40:24.640483: I tensorflow/stream_executor/cuda/cuda_gpu_executor.cc:937] successful NUMA node read from SysFS had negative value (-1), but there must be at least one NUMA node, so returning NUMA node zero\n",
      "2022-01-02 10:40:24.641368: I tensorflow/stream_executor/cuda/cuda_gpu_executor.cc:937] successful NUMA node read from SysFS had negative value (-1), but there must be at least one NUMA node, so returning NUMA node zero\n",
      "2022-01-02 10:40:26.499853: I tensorflow/stream_executor/cuda/cuda_gpu_executor.cc:937] successful NUMA node read from SysFS had negative value (-1), but there must be at least one NUMA node, so returning NUMA node zero\n",
      "2022-01-02 10:40:26.500909: I tensorflow/stream_executor/cuda/cuda_gpu_executor.cc:937] successful NUMA node read from SysFS had negative value (-1), but there must be at least one NUMA node, so returning NUMA node zero\n",
      "2022-01-02 10:40:26.501835: I tensorflow/stream_executor/cuda/cuda_gpu_executor.cc:937] successful NUMA node read from SysFS had negative value (-1), but there must be at least one NUMA node, so returning NUMA node zero\n",
      "2022-01-02 10:40:26.502715: I tensorflow/core/common_runtime/gpu/gpu_device.cc:1510] Created device /job:localhost/replica:0/task:0/device:GPU:0 with 15403 MB memory:  -> device: 0, name: Tesla P100-PCIE-16GB, pci bus id: 0000:00:04.0, compute capability: 6.0\n"
     ]
    }
   ],
   "source": [
    "model=tf.keras.Sequential()\n",
    "model.add(tf.keras.layers.Reshape((124,124,3),input_shape=(124,124,3)))\n",
    "model.add(tf.keras.layers.BatchNormalization())\n",
    "model.add(tf.keras.layers.Conv2D(32, \n",
    "                                 kernel_size=(3,3), \n",
    "                      \n",
    "                                 activation='relu'))\n",
    "\n",
    "model.add(tf.keras.layers.Conv2D(64, kernel_size=(3,3), activation='relu'))\n",
    "\n",
    "model.add(tf.keras.layers.MaxPool2D(pool_size=(2,2)))\n",
    "\n",
    "#Flatten the output\n",
    "model.add(tf.keras.layers.Flatten())\n",
    "\n",
    "#Dense layer\n",
    "model.add(tf.keras.layers.Dense(128, activation='relu'))\n",
    "\n",
    "#Add another dropout layer\n",
    "model.add(tf.keras.layers.Dropout(0.25))\n",
    "\n",
    "#Output layer\n",
    "model.add(tf.keras.layers.Dense(1, activation='sigmoid'))"
   ]
  },
  {
   "cell_type": "code",
   "execution_count": 13,
   "id": "9b961be8",
   "metadata": {
    "execution": {
     "iopub.execute_input": "2022-01-02T10:40:26.984866Z",
     "iopub.status.busy": "2022-01-02T10:40:26.984094Z",
     "iopub.status.idle": "2022-01-02T10:40:26.994990Z",
     "shell.execute_reply": "2022-01-02T10:40:26.994544Z",
     "shell.execute_reply.started": "2021-12-12T10:31:02.47155Z"
    },
    "papermill": {
     "duration": 0.035644,
     "end_time": "2022-01-02T10:40:26.995107",
     "exception": false,
     "start_time": "2022-01-02T10:40:26.959463",
     "status": "completed"
    },
    "tags": []
   },
   "outputs": [],
   "source": [
    "model.compile(optimizer='adam', \n",
    "              loss='binary_crossentropy', metrics=['accuracy'])"
   ]
  },
  {
   "cell_type": "code",
   "execution_count": 14,
   "id": "74d8721b",
   "metadata": {
    "execution": {
     "iopub.execute_input": "2022-01-02T10:40:27.034153Z",
     "iopub.status.busy": "2022-01-02T10:40:27.033373Z",
     "iopub.status.idle": "2022-01-02T10:41:23.470841Z",
     "shell.execute_reply": "2022-01-02T10:41:23.470374Z",
     "shell.execute_reply.started": "2021-12-12T10:31:02.491959Z"
    },
    "papermill": {
     "duration": 56.458698,
     "end_time": "2022-01-02T10:41:23.470974",
     "exception": false,
     "start_time": "2022-01-02T10:40:27.012276",
     "status": "completed"
    },
    "tags": []
   },
   "outputs": [
    {
     "name": "stderr",
     "output_type": "stream",
     "text": [
      "2022-01-02 10:40:27.480349: W tensorflow/core/framework/cpu_allocator_impl.cc:80] Allocation of 1181614848 exceeds 10% of free system memory.\n",
      "2022-01-02 10:40:28.675929: W tensorflow/core/framework/cpu_allocator_impl.cc:80] Allocation of 1181614848 exceeds 10% of free system memory.\n",
      "2022-01-02 10:40:29.546511: I tensorflow/compiler/mlir/mlir_graph_optimization_pass.cc:185] None of the MLIR Optimization Passes are enabled (registered 2)\n"
     ]
    },
    {
     "name": "stdout",
     "output_type": "stream",
     "text": [
      "Epoch 1/10\n"
     ]
    },
    {
     "name": "stderr",
     "output_type": "stream",
     "text": [
      "2022-01-02 10:40:30.980087: I tensorflow/stream_executor/cuda/cuda_dnn.cc:369] Loaded cuDNN version 8005\n"
     ]
    },
    {
     "name": "stdout",
     "output_type": "stream",
     "text": [
      "201/201 [==============================] - 12s 27ms/step - loss: 1.0859 - accuracy: 0.5607 - val_loss: 0.6601 - val_accuracy: 0.6227\n",
      "Epoch 2/10\n",
      "201/201 [==============================] - 5s 23ms/step - loss: 0.6108 - accuracy: 0.6691 - val_loss: 0.5829 - val_accuracy: 0.6933\n",
      "Epoch 3/10\n",
      "201/201 [==============================] - 5s 23ms/step - loss: 0.4600 - accuracy: 0.7869 - val_loss: 0.5734 - val_accuracy: 0.7233\n",
      "Epoch 4/10\n",
      "201/201 [==============================] - 5s 23ms/step - loss: 0.2334 - accuracy: 0.9077 - val_loss: 0.6463 - val_accuracy: 0.7177\n",
      "Epoch 5/10\n",
      "201/201 [==============================] - 5s 24ms/step - loss: 0.0864 - accuracy: 0.9724 - val_loss: 0.9616 - val_accuracy: 0.7114\n",
      "Epoch 6/10\n",
      "201/201 [==============================] - 5s 23ms/step - loss: 0.0330 - accuracy: 0.9913 - val_loss: 1.1621 - val_accuracy: 0.7083\n",
      "Epoch 7/10\n",
      "201/201 [==============================] - 5s 23ms/step - loss: 0.0192 - accuracy: 0.9958 - val_loss: 1.2491 - val_accuracy: 0.7102\n",
      "Epoch 8/10\n",
      "201/201 [==============================] - 5s 23ms/step - loss: 0.0118 - accuracy: 0.9972 - val_loss: 1.3437 - val_accuracy: 0.7108\n",
      "Epoch 9/10\n",
      "201/201 [==============================] - 5s 23ms/step - loss: 0.0168 - accuracy: 0.9955 - val_loss: 1.3017 - val_accuracy: 0.7121\n",
      "Epoch 10/10\n",
      "201/201 [==============================] - 5s 23ms/step - loss: 0.0154 - accuracy: 0.9956 - val_loss: 1.3296 - val_accuracy: 0.7033\n"
     ]
    },
    {
     "data": {
      "text/plain": [
       "<keras.callbacks.History at 0x7f971efc9d90>"
      ]
     },
     "execution_count": 14,
     "metadata": {},
     "output_type": "execute_result"
    }
   ],
   "source": [
    "model.fit(x_train_norm,y_train,          \n",
    "          validation_data=(x_test_norm,y_test),\n",
    "          epochs=10,\n",
    "          batch_size=32)"
   ]
  },
  {
   "cell_type": "code",
   "execution_count": null,
   "id": "acdc7e08",
   "metadata": {
    "papermill": {
     "duration": 0.194778,
     "end_time": "2022-01-02T10:41:23.860298",
     "exception": false,
     "start_time": "2022-01-02T10:41:23.665520",
     "status": "completed"
    },
    "tags": []
   },
   "outputs": [],
   "source": []
  }
 ],
 "metadata": {
  "kernelspec": {
   "display_name": "Python 3",
   "language": "python",
   "name": "python3"
  },
  "language_info": {
   "codemirror_mode": {
    "name": "ipython",
    "version": 3
   },
   "file_extension": ".py",
   "mimetype": "text/x-python",
   "name": "python",
   "nbconvert_exporter": "python",
   "pygments_lexer": "ipython3",
   "version": "3.7.12"
  },
  "papermill": {
   "default_parameters": {},
   "duration": 143.289191,
   "end_time": "2022-01-02T10:41:26.838755",
   "environment_variables": {},
   "exception": null,
   "input_path": "__notebook__.ipynb",
   "output_path": "__notebook__.ipynb",
   "parameters": {},
   "start_time": "2022-01-02T10:39:03.549564",
   "version": "2.3.3"
  }
 },
 "nbformat": 4,
 "nbformat_minor": 5
}
