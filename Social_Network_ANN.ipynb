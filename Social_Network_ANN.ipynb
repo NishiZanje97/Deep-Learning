{
  "nbformat": 4,
  "nbformat_minor": 0,
  "metadata": {
    "colab": {
      "name": "Nishigandha_SOCIAL_NETWORK_DEEP_LEARNING.ipynb",
      "provenance": [],
      "collapsed_sections": []
    },
    "kernelspec": {
      "name": "python3",
      "display_name": "Python 3"
    },
    "language_info": {
      "name": "python"
    }
  },
  "cells": [
    {
      "cell_type": "code",
      "metadata": {
        "id": "NiIzArMDRHRb"
      },
      "source": [
        "import tensorflow as tf\n",
        "from tensorflow import keras\n",
        "import matplotlib.pyplot as plt\n",
        "from sklearn import datasets\n",
        "import pandas as pd"
      ],
      "execution_count": null,
      "outputs": []
    },
    {
      "cell_type": "code",
      "metadata": {
        "colab": {
          "base_uri": "https://localhost:8080/",
          "height": 206
        },
        "id": "nw-YpbALRR3i",
        "outputId": "1c065110-1d37-4358-ff3e-36e379911c24"
      },
      "source": [
        "data = pd.read_csv('Social_Network_Ads.csv')\n",
        "X=data.iloc[:,2:4]\n",
        "y=data['Purchased']\n",
        "data.head()\n"
      ],
      "execution_count": null,
      "outputs": [
        {
          "output_type": "execute_result",
          "data": {
            "text/html": [
              "\n",
              "  <div id=\"df-1939f9fb-ab15-42c6-8cc4-0725199e8596\">\n",
              "    <div class=\"colab-df-container\">\n",
              "      <div>\n",
              "<style scoped>\n",
              "    .dataframe tbody tr th:only-of-type {\n",
              "        vertical-align: middle;\n",
              "    }\n",
              "\n",
              "    .dataframe tbody tr th {\n",
              "        vertical-align: top;\n",
              "    }\n",
              "\n",
              "    .dataframe thead th {\n",
              "        text-align: right;\n",
              "    }\n",
              "</style>\n",
              "<table border=\"1\" class=\"dataframe\">\n",
              "  <thead>\n",
              "    <tr style=\"text-align: right;\">\n",
              "      <th></th>\n",
              "      <th>User ID</th>\n",
              "      <th>Gender</th>\n",
              "      <th>Age</th>\n",
              "      <th>EstimatedSalary</th>\n",
              "      <th>Purchased</th>\n",
              "    </tr>\n",
              "  </thead>\n",
              "  <tbody>\n",
              "    <tr>\n",
              "      <th>0</th>\n",
              "      <td>15624510</td>\n",
              "      <td>Male</td>\n",
              "      <td>19</td>\n",
              "      <td>19000</td>\n",
              "      <td>0</td>\n",
              "    </tr>\n",
              "    <tr>\n",
              "      <th>1</th>\n",
              "      <td>15810944</td>\n",
              "      <td>Male</td>\n",
              "      <td>35</td>\n",
              "      <td>20000</td>\n",
              "      <td>0</td>\n",
              "    </tr>\n",
              "    <tr>\n",
              "      <th>2</th>\n",
              "      <td>15668575</td>\n",
              "      <td>Female</td>\n",
              "      <td>26</td>\n",
              "      <td>43000</td>\n",
              "      <td>0</td>\n",
              "    </tr>\n",
              "    <tr>\n",
              "      <th>3</th>\n",
              "      <td>15603246</td>\n",
              "      <td>Female</td>\n",
              "      <td>27</td>\n",
              "      <td>57000</td>\n",
              "      <td>0</td>\n",
              "    </tr>\n",
              "    <tr>\n",
              "      <th>4</th>\n",
              "      <td>15804002</td>\n",
              "      <td>Male</td>\n",
              "      <td>19</td>\n",
              "      <td>76000</td>\n",
              "      <td>0</td>\n",
              "    </tr>\n",
              "  </tbody>\n",
              "</table>\n",
              "</div>\n",
              "      <button class=\"colab-df-convert\" onclick=\"convertToInteractive('df-1939f9fb-ab15-42c6-8cc4-0725199e8596')\"\n",
              "              title=\"Convert this dataframe to an interactive table.\"\n",
              "              style=\"display:none;\">\n",
              "        \n",
              "  <svg xmlns=\"http://www.w3.org/2000/svg\" height=\"24px\"viewBox=\"0 0 24 24\"\n",
              "       width=\"24px\">\n",
              "    <path d=\"M0 0h24v24H0V0z\" fill=\"none\"/>\n",
              "    <path d=\"M18.56 5.44l.94 2.06.94-2.06 2.06-.94-2.06-.94-.94-2.06-.94 2.06-2.06.94zm-11 1L8.5 8.5l.94-2.06 2.06-.94-2.06-.94L8.5 2.5l-.94 2.06-2.06.94zm10 10l.94 2.06.94-2.06 2.06-.94-2.06-.94-.94-2.06-.94 2.06-2.06.94z\"/><path d=\"M17.41 7.96l-1.37-1.37c-.4-.4-.92-.59-1.43-.59-.52 0-1.04.2-1.43.59L10.3 9.45l-7.72 7.72c-.78.78-.78 2.05 0 2.83L4 21.41c.39.39.9.59 1.41.59.51 0 1.02-.2 1.41-.59l7.78-7.78 2.81-2.81c.8-.78.8-2.07 0-2.86zM5.41 20L4 18.59l7.72-7.72 1.47 1.35L5.41 20z\"/>\n",
              "  </svg>\n",
              "      </button>\n",
              "      \n",
              "  <style>\n",
              "    .colab-df-container {\n",
              "      display:flex;\n",
              "      flex-wrap:wrap;\n",
              "      gap: 12px;\n",
              "    }\n",
              "\n",
              "    .colab-df-convert {\n",
              "      background-color: #E8F0FE;\n",
              "      border: none;\n",
              "      border-radius: 50%;\n",
              "      cursor: pointer;\n",
              "      display: none;\n",
              "      fill: #1967D2;\n",
              "      height: 32px;\n",
              "      padding: 0 0 0 0;\n",
              "      width: 32px;\n",
              "    }\n",
              "\n",
              "    .colab-df-convert:hover {\n",
              "      background-color: #E2EBFA;\n",
              "      box-shadow: 0px 1px 2px rgba(60, 64, 67, 0.3), 0px 1px 3px 1px rgba(60, 64, 67, 0.15);\n",
              "      fill: #174EA6;\n",
              "    }\n",
              "\n",
              "    [theme=dark] .colab-df-convert {\n",
              "      background-color: #3B4455;\n",
              "      fill: #D2E3FC;\n",
              "    }\n",
              "\n",
              "    [theme=dark] .colab-df-convert:hover {\n",
              "      background-color: #434B5C;\n",
              "      box-shadow: 0px 1px 3px 1px rgba(0, 0, 0, 0.15);\n",
              "      filter: drop-shadow(0px 1px 2px rgba(0, 0, 0, 0.3));\n",
              "      fill: #FFFFFF;\n",
              "    }\n",
              "  </style>\n",
              "\n",
              "      <script>\n",
              "        const buttonEl =\n",
              "          document.querySelector('#df-1939f9fb-ab15-42c6-8cc4-0725199e8596 button.colab-df-convert');\n",
              "        buttonEl.style.display =\n",
              "          google.colab.kernel.accessAllowed ? 'block' : 'none';\n",
              "\n",
              "        async function convertToInteractive(key) {\n",
              "          const element = document.querySelector('#df-1939f9fb-ab15-42c6-8cc4-0725199e8596');\n",
              "          const dataTable =\n",
              "            await google.colab.kernel.invokeFunction('convertToInteractive',\n",
              "                                                     [key], {});\n",
              "          if (!dataTable) return;\n",
              "\n",
              "          const docLinkHtml = 'Like what you see? Visit the ' +\n",
              "            '<a target=\"_blank\" href=https://colab.research.google.com/notebooks/data_table.ipynb>data table notebook</a>'\n",
              "            + ' to learn more about interactive tables.';\n",
              "          element.innerHTML = '';\n",
              "          dataTable['output_type'] = 'display_data';\n",
              "          await google.colab.output.renderOutput(dataTable, element);\n",
              "          const docLink = document.createElement('div');\n",
              "          docLink.innerHTML = docLinkHtml;\n",
              "          element.appendChild(docLink);\n",
              "        }\n",
              "      </script>\n",
              "    </div>\n",
              "  </div>\n",
              "  "
            ],
            "text/plain": [
              "    User ID  Gender  Age  EstimatedSalary  Purchased\n",
              "0  15624510    Male   19            19000          0\n",
              "1  15810944    Male   35            20000          0\n",
              "2  15668575  Female   26            43000          0\n",
              "3  15603246  Female   27            57000          0\n",
              "4  15804002    Male   19            76000          0"
            ]
          },
          "metadata": {},
          "execution_count": 2
        }
      ]
    },
    {
      "cell_type": "code",
      "metadata": {
        "id": "81bLSixwVN0J"
      },
      "source": [
        "data.Gender.replace(['Female','Male'],[0,1],inplace=True)"
      ],
      "execution_count": null,
      "outputs": []
    },
    {
      "cell_type": "code",
      "metadata": {
        "colab": {
          "base_uri": "https://localhost:8080/",
          "height": 206
        },
        "id": "8o8rnYvDWHV-",
        "outputId": "445d67dc-ff54-4bfa-ca0b-3200ce646cd2"
      },
      "source": [
        "data.head()"
      ],
      "execution_count": null,
      "outputs": [
        {
          "output_type": "execute_result",
          "data": {
            "text/html": [
              "\n",
              "  <div id=\"df-3241cc3e-5a60-45b4-bf8b-05c817b0312a\">\n",
              "    <div class=\"colab-df-container\">\n",
              "      <div>\n",
              "<style scoped>\n",
              "    .dataframe tbody tr th:only-of-type {\n",
              "        vertical-align: middle;\n",
              "    }\n",
              "\n",
              "    .dataframe tbody tr th {\n",
              "        vertical-align: top;\n",
              "    }\n",
              "\n",
              "    .dataframe thead th {\n",
              "        text-align: right;\n",
              "    }\n",
              "</style>\n",
              "<table border=\"1\" class=\"dataframe\">\n",
              "  <thead>\n",
              "    <tr style=\"text-align: right;\">\n",
              "      <th></th>\n",
              "      <th>User ID</th>\n",
              "      <th>Gender</th>\n",
              "      <th>Age</th>\n",
              "      <th>EstimatedSalary</th>\n",
              "      <th>Purchased</th>\n",
              "    </tr>\n",
              "  </thead>\n",
              "  <tbody>\n",
              "    <tr>\n",
              "      <th>0</th>\n",
              "      <td>15624510</td>\n",
              "      <td>1</td>\n",
              "      <td>19</td>\n",
              "      <td>19000</td>\n",
              "      <td>0</td>\n",
              "    </tr>\n",
              "    <tr>\n",
              "      <th>1</th>\n",
              "      <td>15810944</td>\n",
              "      <td>1</td>\n",
              "      <td>35</td>\n",
              "      <td>20000</td>\n",
              "      <td>0</td>\n",
              "    </tr>\n",
              "    <tr>\n",
              "      <th>2</th>\n",
              "      <td>15668575</td>\n",
              "      <td>0</td>\n",
              "      <td>26</td>\n",
              "      <td>43000</td>\n",
              "      <td>0</td>\n",
              "    </tr>\n",
              "    <tr>\n",
              "      <th>3</th>\n",
              "      <td>15603246</td>\n",
              "      <td>0</td>\n",
              "      <td>27</td>\n",
              "      <td>57000</td>\n",
              "      <td>0</td>\n",
              "    </tr>\n",
              "    <tr>\n",
              "      <th>4</th>\n",
              "      <td>15804002</td>\n",
              "      <td>1</td>\n",
              "      <td>19</td>\n",
              "      <td>76000</td>\n",
              "      <td>0</td>\n",
              "    </tr>\n",
              "  </tbody>\n",
              "</table>\n",
              "</div>\n",
              "      <button class=\"colab-df-convert\" onclick=\"convertToInteractive('df-3241cc3e-5a60-45b4-bf8b-05c817b0312a')\"\n",
              "              title=\"Convert this dataframe to an interactive table.\"\n",
              "              style=\"display:none;\">\n",
              "        \n",
              "  <svg xmlns=\"http://www.w3.org/2000/svg\" height=\"24px\"viewBox=\"0 0 24 24\"\n",
              "       width=\"24px\">\n",
              "    <path d=\"M0 0h24v24H0V0z\" fill=\"none\"/>\n",
              "    <path d=\"M18.56 5.44l.94 2.06.94-2.06 2.06-.94-2.06-.94-.94-2.06-.94 2.06-2.06.94zm-11 1L8.5 8.5l.94-2.06 2.06-.94-2.06-.94L8.5 2.5l-.94 2.06-2.06.94zm10 10l.94 2.06.94-2.06 2.06-.94-2.06-.94-.94-2.06-.94 2.06-2.06.94z\"/><path d=\"M17.41 7.96l-1.37-1.37c-.4-.4-.92-.59-1.43-.59-.52 0-1.04.2-1.43.59L10.3 9.45l-7.72 7.72c-.78.78-.78 2.05 0 2.83L4 21.41c.39.39.9.59 1.41.59.51 0 1.02-.2 1.41-.59l7.78-7.78 2.81-2.81c.8-.78.8-2.07 0-2.86zM5.41 20L4 18.59l7.72-7.72 1.47 1.35L5.41 20z\"/>\n",
              "  </svg>\n",
              "      </button>\n",
              "      \n",
              "  <style>\n",
              "    .colab-df-container {\n",
              "      display:flex;\n",
              "      flex-wrap:wrap;\n",
              "      gap: 12px;\n",
              "    }\n",
              "\n",
              "    .colab-df-convert {\n",
              "      background-color: #E8F0FE;\n",
              "      border: none;\n",
              "      border-radius: 50%;\n",
              "      cursor: pointer;\n",
              "      display: none;\n",
              "      fill: #1967D2;\n",
              "      height: 32px;\n",
              "      padding: 0 0 0 0;\n",
              "      width: 32px;\n",
              "    }\n",
              "\n",
              "    .colab-df-convert:hover {\n",
              "      background-color: #E2EBFA;\n",
              "      box-shadow: 0px 1px 2px rgba(60, 64, 67, 0.3), 0px 1px 3px 1px rgba(60, 64, 67, 0.15);\n",
              "      fill: #174EA6;\n",
              "    }\n",
              "\n",
              "    [theme=dark] .colab-df-convert {\n",
              "      background-color: #3B4455;\n",
              "      fill: #D2E3FC;\n",
              "    }\n",
              "\n",
              "    [theme=dark] .colab-df-convert:hover {\n",
              "      background-color: #434B5C;\n",
              "      box-shadow: 0px 1px 3px 1px rgba(0, 0, 0, 0.15);\n",
              "      filter: drop-shadow(0px 1px 2px rgba(0, 0, 0, 0.3));\n",
              "      fill: #FFFFFF;\n",
              "    }\n",
              "  </style>\n",
              "\n",
              "      <script>\n",
              "        const buttonEl =\n",
              "          document.querySelector('#df-3241cc3e-5a60-45b4-bf8b-05c817b0312a button.colab-df-convert');\n",
              "        buttonEl.style.display =\n",
              "          google.colab.kernel.accessAllowed ? 'block' : 'none';\n",
              "\n",
              "        async function convertToInteractive(key) {\n",
              "          const element = document.querySelector('#df-3241cc3e-5a60-45b4-bf8b-05c817b0312a');\n",
              "          const dataTable =\n",
              "            await google.colab.kernel.invokeFunction('convertToInteractive',\n",
              "                                                     [key], {});\n",
              "          if (!dataTable) return;\n",
              "\n",
              "          const docLinkHtml = 'Like what you see? Visit the ' +\n",
              "            '<a target=\"_blank\" href=https://colab.research.google.com/notebooks/data_table.ipynb>data table notebook</a>'\n",
              "            + ' to learn more about interactive tables.';\n",
              "          element.innerHTML = '';\n",
              "          dataTable['output_type'] = 'display_data';\n",
              "          await google.colab.output.renderOutput(dataTable, element);\n",
              "          const docLink = document.createElement('div');\n",
              "          docLink.innerHTML = docLinkHtml;\n",
              "          element.appendChild(docLink);\n",
              "        }\n",
              "      </script>\n",
              "    </div>\n",
              "  </div>\n",
              "  "
            ],
            "text/plain": [
              "    User ID  Gender  Age  EstimatedSalary  Purchased\n",
              "0  15624510       1   19            19000          0\n",
              "1  15810944       1   35            20000          0\n",
              "2  15668575       0   26            43000          0\n",
              "3  15603246       0   27            57000          0\n",
              "4  15804002       1   19            76000          0"
            ]
          },
          "metadata": {},
          "execution_count": 4
        }
      ]
    },
    {
      "cell_type": "code",
      "metadata": {
        "id": "y7TkM4KfRYQZ"
      },
      "source": [
        "from sklearn.model_selection import train_test_split\n",
        "X_train, X_test, y_train, y_test = train_test_split(X,y, test_size=0.2,random_state=1)"
      ],
      "execution_count": null,
      "outputs": []
    },
    {
      "cell_type": "code",
      "metadata": {
        "id": "0KNU2q2iR1nb"
      },
      "source": [
        "model = tf.keras.models.Sequential()\n",
        "model.add(tf.keras.layers.InputLayer(input_shape=(2,))\n",
        "#Normalize the data\n",
        "model.add(tf.keras.layers.BatchNormalization())"
      ],
      "execution_count": null,
      "outputs": []
    },
    {
      "cell_type": "code",
      "metadata": {
        "id": "CmCLXo3bSFCf"
      },
      "source": [
        "model.add(tf.keras.layers.Dense(500, activation='relu'))\n",
        "model.add(tf.keras.layers.BatchNormalization())"
      ],
      "execution_count": null,
      "outputs": []
    },
    {
      "cell_type": "code",
      "metadata": {
        "id": "Xxft-AicSNPX"
      },
      "source": [
        "#Add 1st hidden layer\n",
        "model.add(tf.keras.layers.Dense(200, activation='relu'))\n",
        "model.add(tf.keras.layers.BatchNormalization())"
      ],
      "execution_count": null,
      "outputs": []
    },
    {
      "cell_type": "code",
      "metadata": {
        "id": "lBnTEIYVSRlD"
      },
      "source": [
        "#Add 2nd hidden layer\n",
        "model.add(tf.keras.layers.Dense(100, activation='relu'))\n",
        "model.add(tf.keras.layers.BatchNormalization())"
      ],
      "execution_count": null,
      "outputs": []
    },
    {
      "cell_type": "code",
      "metadata": {
        "id": "ujkqHa8FSTwf"
      },
      "source": [
        "#Add 3rd hidden layer\n",
        "model.add(tf.keras.layers.Dense(60, activation='relu'))\n",
        "model.add(tf.keras.layers.BatchNormalization())"
      ],
      "execution_count": null,
      "outputs": []
    },
    {
      "cell_type": "code",
      "metadata": {
        "id": "1XhChN_4TEeW"
      },
      "source": [
        "#Add 4th hidden layer\n",
        "model.add(tf.keras.layers.Dense(30, activation='relu'))\n",
        "model.add(tf.keras.layers.BatchNormalization())"
      ],
      "execution_count": null,
      "outputs": []
    },
    {
      "cell_type": "code",
      "metadata": {
        "id": "Xo3bJkrhSVad"
      },
      "source": [
        "#Add OUTPUT layer\n",
        "model.add(tf.keras.layers.Dense(1, activation='sigmoid'))"
      ],
      "execution_count": null,
      "outputs": []
    },
    {
      "cell_type": "code",
      "metadata": {
        "colab": {
          "base_uri": "https://localhost:8080/"
        },
        "id": "SD6ikGlNSmAw",
        "outputId": "125293b4-a91f-43c2-c4cc-9be048d5b9f1"
      },
      "source": [
        "sgd_optimizer = tf.keras.optimizers.SGD(lr=0.01)\n",
        "\n",
        "#Compile the model\n",
        "model.compile(optimizer=sgd_optimizer, loss='binary_crossentropy', metrics=['accuracy'])"
      ],
      "execution_count": null,
      "outputs": [
        {
          "output_type": "stream",
          "name": "stderr",
          "text": [
            "/usr/local/lib/python3.7/dist-packages/keras/optimizer_v2/gradient_descent.py:102: UserWarning: The `lr` argument is deprecated, use `learning_rate` instead.\n",
            "  super(SGD, self).__init__(name, **kwargs)\n"
          ]
        }
      ]
    },
    {
      "cell_type": "code",
      "metadata": {
        "colab": {
          "base_uri": "https://localhost:8080/"
        },
        "id": "zQrdD1SJSpEp",
        "outputId": "ed934352-241e-497e-8b7a-b47ec3fe2b79"
      },
      "source": [
        "model.fit(X_train,y_train,          \n",
        "          validation_data=(X_test,y_test),\n",
        "          epochs=100,\n",
        "          batch_size=32)"
      ],
      "execution_count": null,
      "outputs": [
        {
          "output_type": "stream",
          "name": "stdout",
          "text": [
            "Epoch 1/100\n",
            "10/10 [==============================] - 2s 37ms/step - loss: 0.4537 - accuracy: 0.8250 - val_loss: 0.6981 - val_accuracy: 0.4000\n",
            "Epoch 2/100\n",
            "10/10 [==============================] - 0s 7ms/step - loss: 0.3317 - accuracy: 0.9062 - val_loss: 0.6983 - val_accuracy: 0.4625\n",
            "Epoch 3/100\n",
            "10/10 [==============================] - 0s 9ms/step - loss: 0.3066 - accuracy: 0.9062 - val_loss: 0.6650 - val_accuracy: 0.6375\n",
            "Epoch 4/100\n",
            "10/10 [==============================] - 0s 9ms/step - loss: 0.3572 - accuracy: 0.8844 - val_loss: 0.6628 - val_accuracy: 0.6875\n",
            "Epoch 5/100\n",
            "10/10 [==============================] - 0s 8ms/step - loss: 0.2976 - accuracy: 0.8906 - val_loss: 0.6729 - val_accuracy: 0.6000\n",
            "Epoch 6/100\n",
            "10/10 [==============================] - 0s 8ms/step - loss: 0.3098 - accuracy: 0.9031 - val_loss: 0.6767 - val_accuracy: 0.5750\n",
            "Epoch 7/100\n",
            "10/10 [==============================] - 0s 9ms/step - loss: 0.2776 - accuracy: 0.8906 - val_loss: 0.6785 - val_accuracy: 0.5750\n",
            "Epoch 8/100\n",
            "10/10 [==============================] - 0s 10ms/step - loss: 0.2758 - accuracy: 0.9094 - val_loss: 0.6812 - val_accuracy: 0.6000\n",
            "Epoch 9/100\n",
            "10/10 [==============================] - 0s 9ms/step - loss: 0.2861 - accuracy: 0.9094 - val_loss: 0.6819 - val_accuracy: 0.5750\n",
            "Epoch 10/100\n",
            "10/10 [==============================] - 0s 9ms/step - loss: 0.3082 - accuracy: 0.8750 - val_loss: 0.6791 - val_accuracy: 0.6000\n",
            "Epoch 11/100\n",
            "10/10 [==============================] - 0s 8ms/step - loss: 0.2721 - accuracy: 0.9062 - val_loss: 0.6791 - val_accuracy: 0.5750\n",
            "Epoch 12/100\n",
            "10/10 [==============================] - 0s 8ms/step - loss: 0.2781 - accuracy: 0.9156 - val_loss: 0.6725 - val_accuracy: 0.6125\n",
            "Epoch 13/100\n",
            "10/10 [==============================] - 0s 8ms/step - loss: 0.2747 - accuracy: 0.9094 - val_loss: 0.6590 - val_accuracy: 0.6625\n",
            "Epoch 14/100\n",
            "10/10 [==============================] - 0s 10ms/step - loss: 0.2493 - accuracy: 0.9312 - val_loss: 0.6556 - val_accuracy: 0.6875\n",
            "Epoch 15/100\n",
            "10/10 [==============================] - 0s 8ms/step - loss: 0.2628 - accuracy: 0.9125 - val_loss: 0.6488 - val_accuracy: 0.7125\n",
            "Epoch 16/100\n",
            "10/10 [==============================] - 0s 7ms/step - loss: 0.2728 - accuracy: 0.9094 - val_loss: 0.6444 - val_accuracy: 0.7000\n",
            "Epoch 17/100\n",
            "10/10 [==============================] - 0s 9ms/step - loss: 0.2737 - accuracy: 0.8906 - val_loss: 0.6259 - val_accuracy: 0.7375\n",
            "Epoch 18/100\n",
            "10/10 [==============================] - 0s 8ms/step - loss: 0.2392 - accuracy: 0.9250 - val_loss: 0.6211 - val_accuracy: 0.7500\n",
            "Epoch 19/100\n",
            "10/10 [==============================] - 0s 9ms/step - loss: 0.2588 - accuracy: 0.9125 - val_loss: 0.6126 - val_accuracy: 0.7625\n",
            "Epoch 20/100\n",
            "10/10 [==============================] - 0s 9ms/step - loss: 0.2357 - accuracy: 0.9250 - val_loss: 0.6043 - val_accuracy: 0.7625\n",
            "Epoch 21/100\n",
            "10/10 [==============================] - 0s 9ms/step - loss: 0.2787 - accuracy: 0.9062 - val_loss: 0.5950 - val_accuracy: 0.7625\n",
            "Epoch 22/100\n",
            "10/10 [==============================] - 0s 11ms/step - loss: 0.2721 - accuracy: 0.9062 - val_loss: 0.5773 - val_accuracy: 0.7750\n",
            "Epoch 23/100\n",
            "10/10 [==============================] - 0s 11ms/step - loss: 0.2530 - accuracy: 0.9062 - val_loss: 0.5619 - val_accuracy: 0.7625\n",
            "Epoch 24/100\n",
            "10/10 [==============================] - 0s 12ms/step - loss: 0.2459 - accuracy: 0.9094 - val_loss: 0.5518 - val_accuracy: 0.7750\n",
            "Epoch 25/100\n",
            "10/10 [==============================] - 0s 9ms/step - loss: 0.2418 - accuracy: 0.9031 - val_loss: 0.5366 - val_accuracy: 0.7625\n",
            "Epoch 26/100\n",
            "10/10 [==============================] - 0s 8ms/step - loss: 0.2441 - accuracy: 0.9219 - val_loss: 0.5348 - val_accuracy: 0.7750\n",
            "Epoch 27/100\n",
            "10/10 [==============================] - 0s 11ms/step - loss: 0.2375 - accuracy: 0.9031 - val_loss: 0.5307 - val_accuracy: 0.7625\n",
            "Epoch 28/100\n",
            "10/10 [==============================] - 0s 8ms/step - loss: 0.2595 - accuracy: 0.9000 - val_loss: 0.5226 - val_accuracy: 0.7750\n",
            "Epoch 29/100\n",
            "10/10 [==============================] - 0s 9ms/step - loss: 0.2327 - accuracy: 0.9031 - val_loss: 0.5067 - val_accuracy: 0.7750\n",
            "Epoch 30/100\n",
            "10/10 [==============================] - 0s 8ms/step - loss: 0.2499 - accuracy: 0.9094 - val_loss: 0.5059 - val_accuracy: 0.7750\n",
            "Epoch 31/100\n",
            "10/10 [==============================] - 0s 11ms/step - loss: 0.2329 - accuracy: 0.9219 - val_loss: 0.4937 - val_accuracy: 0.7625\n",
            "Epoch 32/100\n",
            "10/10 [==============================] - 0s 9ms/step - loss: 0.2849 - accuracy: 0.8875 - val_loss: 0.4963 - val_accuracy: 0.7625\n",
            "Epoch 33/100\n",
            "10/10 [==============================] - 0s 7ms/step - loss: 0.2622 - accuracy: 0.9094 - val_loss: 0.4824 - val_accuracy: 0.7750\n",
            "Epoch 34/100\n",
            "10/10 [==============================] - 0s 9ms/step - loss: 0.2405 - accuracy: 0.9031 - val_loss: 0.4715 - val_accuracy: 0.7750\n",
            "Epoch 35/100\n",
            "10/10 [==============================] - 0s 7ms/step - loss: 0.2766 - accuracy: 0.9062 - val_loss: 0.4575 - val_accuracy: 0.7750\n",
            "Epoch 36/100\n",
            "10/10 [==============================] - 0s 9ms/step - loss: 0.2061 - accuracy: 0.9187 - val_loss: 0.4443 - val_accuracy: 0.7875\n",
            "Epoch 37/100\n",
            "10/10 [==============================] - 0s 8ms/step - loss: 0.2401 - accuracy: 0.9094 - val_loss: 0.4513 - val_accuracy: 0.7750\n",
            "Epoch 38/100\n",
            "10/10 [==============================] - 0s 7ms/step - loss: 0.2655 - accuracy: 0.9031 - val_loss: 0.4533 - val_accuracy: 0.7750\n",
            "Epoch 39/100\n",
            "10/10 [==============================] - 0s 7ms/step - loss: 0.2584 - accuracy: 0.9031 - val_loss: 0.4562 - val_accuracy: 0.7750\n",
            "Epoch 40/100\n",
            "10/10 [==============================] - 0s 9ms/step - loss: 0.2785 - accuracy: 0.8875 - val_loss: 0.4609 - val_accuracy: 0.7750\n",
            "Epoch 41/100\n",
            "10/10 [==============================] - 0s 8ms/step - loss: 0.2456 - accuracy: 0.9031 - val_loss: 0.4575 - val_accuracy: 0.7750\n",
            "Epoch 42/100\n",
            "10/10 [==============================] - 0s 9ms/step - loss: 0.2239 - accuracy: 0.9250 - val_loss: 0.4513 - val_accuracy: 0.7875\n",
            "Epoch 43/100\n",
            "10/10 [==============================] - 0s 7ms/step - loss: 0.2873 - accuracy: 0.8875 - val_loss: 0.4429 - val_accuracy: 0.7750\n",
            "Epoch 44/100\n",
            "10/10 [==============================] - 0s 9ms/step - loss: 0.2195 - accuracy: 0.9312 - val_loss: 0.4383 - val_accuracy: 0.7750\n",
            "Epoch 45/100\n",
            "10/10 [==============================] - 0s 7ms/step - loss: 0.2402 - accuracy: 0.8844 - val_loss: 0.4305 - val_accuracy: 0.7875\n",
            "Epoch 46/100\n",
            "10/10 [==============================] - 0s 8ms/step - loss: 0.2774 - accuracy: 0.9031 - val_loss: 0.4226 - val_accuracy: 0.8000\n",
            "Epoch 47/100\n",
            "10/10 [==============================] - 0s 9ms/step - loss: 0.2105 - accuracy: 0.9219 - val_loss: 0.4167 - val_accuracy: 0.8125\n",
            "Epoch 48/100\n",
            "10/10 [==============================] - 0s 7ms/step - loss: 0.2722 - accuracy: 0.9062 - val_loss: 0.3800 - val_accuracy: 0.8750\n",
            "Epoch 49/100\n",
            "10/10 [==============================] - 0s 7ms/step - loss: 0.2491 - accuracy: 0.9219 - val_loss: 0.3943 - val_accuracy: 0.8625\n",
            "Epoch 50/100\n",
            "10/10 [==============================] - 0s 8ms/step - loss: 0.2376 - accuracy: 0.9094 - val_loss: 0.4088 - val_accuracy: 0.8125\n",
            "Epoch 51/100\n",
            "10/10 [==============================] - 0s 7ms/step - loss: 0.2519 - accuracy: 0.9156 - val_loss: 0.4049 - val_accuracy: 0.8625\n",
            "Epoch 52/100\n",
            "10/10 [==============================] - 0s 8ms/step - loss: 0.2168 - accuracy: 0.9094 - val_loss: 0.3929 - val_accuracy: 0.8375\n",
            "Epoch 53/100\n",
            "10/10 [==============================] - 0s 9ms/step - loss: 0.2276 - accuracy: 0.9062 - val_loss: 0.3771 - val_accuracy: 0.8750\n",
            "Epoch 54/100\n",
            "10/10 [==============================] - 0s 7ms/step - loss: 0.2414 - accuracy: 0.9031 - val_loss: 0.3755 - val_accuracy: 0.8750\n",
            "Epoch 55/100\n",
            "10/10 [==============================] - 0s 9ms/step - loss: 0.2337 - accuracy: 0.9219 - val_loss: 0.3799 - val_accuracy: 0.8875\n",
            "Epoch 56/100\n",
            "10/10 [==============================] - 0s 8ms/step - loss: 0.2618 - accuracy: 0.9031 - val_loss: 0.3584 - val_accuracy: 0.8500\n",
            "Epoch 57/100\n",
            "10/10 [==============================] - 0s 8ms/step - loss: 0.2498 - accuracy: 0.8875 - val_loss: 0.3608 - val_accuracy: 0.8750\n",
            "Epoch 58/100\n",
            "10/10 [==============================] - 0s 9ms/step - loss: 0.2375 - accuracy: 0.9219 - val_loss: 0.3684 - val_accuracy: 0.8875\n",
            "Epoch 59/100\n",
            "10/10 [==============================] - 0s 8ms/step - loss: 0.2115 - accuracy: 0.9219 - val_loss: 0.3699 - val_accuracy: 0.8750\n",
            "Epoch 60/100\n",
            "10/10 [==============================] - 0s 9ms/step - loss: 0.1990 - accuracy: 0.9250 - val_loss: 0.3768 - val_accuracy: 0.8500\n",
            "Epoch 61/100\n",
            "10/10 [==============================] - 0s 8ms/step - loss: 0.2309 - accuracy: 0.9219 - val_loss: 0.3629 - val_accuracy: 0.8875\n",
            "Epoch 62/100\n",
            "10/10 [==============================] - 0s 8ms/step - loss: 0.2469 - accuracy: 0.9156 - val_loss: 0.3875 - val_accuracy: 0.8625\n",
            "Epoch 63/100\n",
            "10/10 [==============================] - 0s 8ms/step - loss: 0.2215 - accuracy: 0.9187 - val_loss: 0.3861 - val_accuracy: 0.8750\n",
            "Epoch 64/100\n",
            "10/10 [==============================] - 0s 9ms/step - loss: 0.2394 - accuracy: 0.9062 - val_loss: 0.4055 - val_accuracy: 0.8625\n",
            "Epoch 65/100\n",
            "10/10 [==============================] - 0s 11ms/step - loss: 0.2317 - accuracy: 0.9156 - val_loss: 0.3943 - val_accuracy: 0.8750\n",
            "Epoch 66/100\n",
            "10/10 [==============================] - 0s 9ms/step - loss: 0.2230 - accuracy: 0.9250 - val_loss: 0.3791 - val_accuracy: 0.8625\n",
            "Epoch 67/100\n",
            "10/10 [==============================] - 0s 9ms/step - loss: 0.2310 - accuracy: 0.9187 - val_loss: 0.4014 - val_accuracy: 0.8625\n",
            "Epoch 68/100\n",
            "10/10 [==============================] - 0s 7ms/step - loss: 0.2365 - accuracy: 0.9062 - val_loss: 0.3956 - val_accuracy: 0.8625\n",
            "Epoch 69/100\n",
            "10/10 [==============================] - 0s 9ms/step - loss: 0.2550 - accuracy: 0.9031 - val_loss: 0.4094 - val_accuracy: 0.8625\n",
            "Epoch 70/100\n",
            "10/10 [==============================] - 0s 8ms/step - loss: 0.2003 - accuracy: 0.9281 - val_loss: 0.3990 - val_accuracy: 0.8500\n",
            "Epoch 71/100\n",
            "10/10 [==============================] - 0s 9ms/step - loss: 0.2261 - accuracy: 0.9000 - val_loss: 0.4166 - val_accuracy: 0.8750\n",
            "Epoch 72/100\n",
            "10/10 [==============================] - 0s 8ms/step - loss: 0.2104 - accuracy: 0.9281 - val_loss: 0.4095 - val_accuracy: 0.8750\n",
            "Epoch 73/100\n",
            "10/10 [==============================] - 0s 7ms/step - loss: 0.2491 - accuracy: 0.9187 - val_loss: 0.4053 - val_accuracy: 0.8750\n",
            "Epoch 74/100\n",
            "10/10 [==============================] - 0s 8ms/step - loss: 0.2147 - accuracy: 0.9094 - val_loss: 0.3924 - val_accuracy: 0.8625\n",
            "Epoch 75/100\n",
            "10/10 [==============================] - 0s 8ms/step - loss: 0.2045 - accuracy: 0.9156 - val_loss: 0.4044 - val_accuracy: 0.8625\n",
            "Epoch 76/100\n",
            "10/10 [==============================] - 0s 9ms/step - loss: 0.2142 - accuracy: 0.9156 - val_loss: 0.4386 - val_accuracy: 0.8625\n",
            "Epoch 77/100\n",
            "10/10 [==============================] - 0s 8ms/step - loss: 0.2351 - accuracy: 0.9062 - val_loss: 0.3920 - val_accuracy: 0.8625\n",
            "Epoch 78/100\n",
            "10/10 [==============================] - 0s 10ms/step - loss: 0.2384 - accuracy: 0.9094 - val_loss: 0.4008 - val_accuracy: 0.8750\n",
            "Epoch 79/100\n",
            "10/10 [==============================] - 0s 8ms/step - loss: 0.2082 - accuracy: 0.9156 - val_loss: 0.4297 - val_accuracy: 0.8625\n",
            "Epoch 80/100\n",
            "10/10 [==============================] - 0s 7ms/step - loss: 0.2796 - accuracy: 0.8906 - val_loss: 0.4473 - val_accuracy: 0.8625\n",
            "Epoch 81/100\n",
            "10/10 [==============================] - 0s 8ms/step - loss: 0.2200 - accuracy: 0.9062 - val_loss: 0.4711 - val_accuracy: 0.8625\n",
            "Epoch 82/100\n",
            "10/10 [==============================] - 0s 9ms/step - loss: 0.2382 - accuracy: 0.9094 - val_loss: 0.4625 - val_accuracy: 0.8625\n",
            "Epoch 83/100\n",
            "10/10 [==============================] - 0s 8ms/step - loss: 0.2541 - accuracy: 0.9000 - val_loss: 0.4479 - val_accuracy: 0.8750\n",
            "Epoch 84/100\n",
            "10/10 [==============================] - 0s 8ms/step - loss: 0.2138 - accuracy: 0.9094 - val_loss: 0.4519 - val_accuracy: 0.8625\n",
            "Epoch 85/100\n",
            "10/10 [==============================] - 0s 9ms/step - loss: 0.2136 - accuracy: 0.9094 - val_loss: 0.4531 - val_accuracy: 0.8625\n",
            "Epoch 86/100\n",
            "10/10 [==============================] - 0s 8ms/step - loss: 0.2561 - accuracy: 0.9000 - val_loss: 0.4586 - val_accuracy: 0.8625\n",
            "Epoch 87/100\n",
            "10/10 [==============================] - 0s 8ms/step - loss: 0.2338 - accuracy: 0.9000 - val_loss: 0.4456 - val_accuracy: 0.8625\n",
            "Epoch 88/100\n",
            "10/10 [==============================] - 0s 7ms/step - loss: 0.2239 - accuracy: 0.9250 - val_loss: 0.4377 - val_accuracy: 0.8625\n",
            "Epoch 89/100\n",
            "10/10 [==============================] - 0s 8ms/step - loss: 0.2233 - accuracy: 0.9156 - val_loss: 0.4228 - val_accuracy: 0.8625\n",
            "Epoch 90/100\n",
            "10/10 [==============================] - 0s 8ms/step - loss: 0.2154 - accuracy: 0.9094 - val_loss: 0.4314 - val_accuracy: 0.8750\n",
            "Epoch 91/100\n",
            "10/10 [==============================] - 0s 8ms/step - loss: 0.2431 - accuracy: 0.9219 - val_loss: 0.4287 - val_accuracy: 0.8625\n",
            "Epoch 92/100\n",
            "10/10 [==============================] - 0s 8ms/step - loss: 0.2462 - accuracy: 0.9031 - val_loss: 0.4421 - val_accuracy: 0.8625\n",
            "Epoch 93/100\n",
            "10/10 [==============================] - 0s 11ms/step - loss: 0.1896 - accuracy: 0.9281 - val_loss: 0.4580 - val_accuracy: 0.8625\n",
            "Epoch 94/100\n",
            "10/10 [==============================] - 0s 7ms/step - loss: 0.2275 - accuracy: 0.9187 - val_loss: 0.4276 - val_accuracy: 0.8625\n",
            "Epoch 95/100\n",
            "10/10 [==============================] - 0s 8ms/step - loss: 0.2153 - accuracy: 0.9094 - val_loss: 0.4154 - val_accuracy: 0.8625\n",
            "Epoch 96/100\n",
            "10/10 [==============================] - 0s 9ms/step - loss: 0.2055 - accuracy: 0.9219 - val_loss: 0.4377 - val_accuracy: 0.8750\n",
            "Epoch 97/100\n",
            "10/10 [==============================] - 0s 9ms/step - loss: 0.1983 - accuracy: 0.9250 - val_loss: 0.4523 - val_accuracy: 0.8625\n",
            "Epoch 98/100\n",
            "10/10 [==============================] - 0s 8ms/step - loss: 0.2486 - accuracy: 0.9062 - val_loss: 0.4548 - val_accuracy: 0.8750\n",
            "Epoch 99/100\n",
            "10/10 [==============================] - 0s 10ms/step - loss: 0.2102 - accuracy: 0.9062 - val_loss: 0.4457 - val_accuracy: 0.8750\n",
            "Epoch 100/100\n",
            "10/10 [==============================] - 0s 10ms/step - loss: 0.2076 - accuracy: 0.9281 - val_loss: 0.4552 - val_accuracy: 0.8625\n"
          ]
        },
        {
          "output_type": "execute_result",
          "data": {
            "text/plain": [
              "<keras.callbacks.History at 0x7fe342a64c10>"
            ]
          },
          "metadata": {},
          "execution_count": 14
        }
      ]
    },
    {
      "cell_type": "code",
      "metadata": {
        "id": "uGIy6ORySsSh",
        "colab": {
          "base_uri": "https://localhost:8080/"
        },
        "outputId": "141d30db-1ed4-42d8-e384-74f4990b6929"
      },
      "source": [
        "model.summary()"
      ],
      "execution_count": null,
      "outputs": [
        {
          "output_type": "stream",
          "name": "stdout",
          "text": [
            "Model: \"sequential\"\n",
            "_________________________________________________________________\n",
            " Layer (type)                Output Shape              Param #   \n",
            "=================================================================\n",
            " batch_normalization (BatchN  (None, 2)                8         \n",
            " ormalization)                                                   \n",
            "                                                                 \n",
            " dense (Dense)               (None, 500)               1500      \n",
            "                                                                 \n",
            " batch_normalization_1 (Batc  (None, 500)              2000      \n",
            " hNormalization)                                                 \n",
            "                                                                 \n",
            " dense_1 (Dense)             (None, 200)               100200    \n",
            "                                                                 \n",
            " batch_normalization_2 (Batc  (None, 200)              800       \n",
            " hNormalization)                                                 \n",
            "                                                                 \n",
            " dense_2 (Dense)             (None, 100)               20100     \n",
            "                                                                 \n",
            " batch_normalization_3 (Batc  (None, 100)              400       \n",
            " hNormalization)                                                 \n",
            "                                                                 \n",
            " dense_3 (Dense)             (None, 60)                6060      \n",
            "                                                                 \n",
            " batch_normalization_4 (Batc  (None, 60)               240       \n",
            " hNormalization)                                                 \n",
            "                                                                 \n",
            " dense_4 (Dense)             (None, 30)                1830      \n",
            "                                                                 \n",
            " batch_normalization_5 (Batc  (None, 30)               120       \n",
            " hNormalization)                                                 \n",
            "                                                                 \n",
            " dense_5 (Dense)             (None, 1)                 31        \n",
            "                                                                 \n",
            "=================================================================\n",
            "Total params: 133,289\n",
            "Trainable params: 131,505\n",
            "Non-trainable params: 1,784\n",
            "_________________________________________________________________\n"
          ]
        }
      ]
    },
    {
      "cell_type": "code",
      "metadata": {
        "colab": {
          "base_uri": "https://localhost:8080/",
          "height": 1000
        },
        "id": "A3TeY4vLco0E",
        "outputId": "ed986c4c-9470-4daf-9c00-7ebddb2cabbe"
      },
      "source": [
        "tf.keras.utils.plot_model(model)"
      ],
      "execution_count": null,
      "outputs": [
        {
          "output_type": "execute_result",
          "data": {
            "image/png": "[encoded data removed]",
            "text/plain": [
              "<IPython.core.display.Image object>"
            ]
          },
          "metadata": {},
          "execution_count": 16
        }
      ]
    }
  ]
}